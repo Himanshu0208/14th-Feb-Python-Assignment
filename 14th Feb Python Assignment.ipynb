{
 "cells": [
  {
   "cell_type": "markdown",
   "id": "58433aa3-5867-48e3-a807-1c901a2f738a",
   "metadata": {},
   "source": [
    "# __Ques 1__\n",
    "__WHAT ?__ <br>\n",
    "Multithreading is a threading technique in Python programming to run multiple threads concurrently by rapidly switching between threads with a CPU help (called context switching). Besides, it allows sharing of its data space with the main threads inside a process that share information and communication with other threads easier than individual processes. Multithreading aims to perform multiple tasks simultaneously, which increases performance, speed and improves the rendering of the application.\n",
    "<br>\n",
    "<br>\n",
    "__WHY ?__\n",
    "1. It ensures effective utilization of computer system resources.\n",
    "2. Multithreaded applications are more responsive.\n",
    "3. It shares resources and its state with sub-threads (child) which makes it more economical.\n",
    "4. It makes the multiprocessor architecture more effective due to similarity.\n",
    "5. It saves time by executing multiple threads at the same time.\n",
    "6. The system does not require too much memory to store multiple threads.\n",
    "<br>\n",
    "<br>\n",
    "__MODULE :__ import threading"
   ]
  },
  {
   "cell_type": "markdown",
   "id": "18980232-d58d-428c-8a43-b238ae46a9b5",
   "metadata": {},
   "source": [
    "# __Ques 2__\n",
    "In Python, the \"threading\" module is used to handle threads. This module provides a high-level API for creating and managing threads in Python. The threading module allows a program to create multiple threads and start them in parallel. It provides various methods and functions for controlling the execution of threads, including starting, stopping, and suspending threads.\n",
    "1. __activeCount():__ This function returns the number of thread objects that are currently alive. A thread object is considered alive from the moment it is started until the moment it terminates.\n",
    "2. __currentThread():__ This function returns a reference to the current thread object. The current thread is the thread from which this function is called.\n",
    "3. __enumerate():__ This function returns a list of all thread objects that are currently alive. The list includes daemonic threads, dummy thread objects created by current_thread(), and the main thread."
   ]
  },
  {
   "cell_type": "markdown",
   "id": "6a335362-dfcd-40cf-9566-8ef4515b75ed",
   "metadata": {},
   "source": [
    "# __Ques 3__\n",
    "1. __start() :__ A start() method is used to initiate the activity of a thread. And it calls only once for each thread so that the execution of the thread can begin.\n",
    "2. __run() :__ A run() method is used to define a thread's activity and can be overridden by a class that extends the threads class.\n",
    "3. __join() :__ A join() method is used to block the execution of another code until the thread terminates.\n",
    "4. __is_alive() :__ This method returns True just before the run() method starts until just after the run() method terminates. The module function enumerate() returns a list of all alive threads."
   ]
  },
  {
   "cell_type": "markdown",
   "id": "bc570f82-85e7-41c2-87bb-cb56bdedefba",
   "metadata": {},
   "source": [
    "# __Ques 4__"
   ]
  },
  {
   "cell_type": "code",
   "execution_count": 1,
   "id": "df295176-8305-4e2e-8146-258fb3ca3978",
   "metadata": {},
   "outputs": [],
   "source": [
    "import threading"
   ]
  },
  {
   "cell_type": "code",
   "execution_count": 2,
   "id": "d95a8106-6cd6-4975-a75c-c72304344f9d",
   "metadata": {},
   "outputs": [],
   "source": [
    "li = [1,2,3,4,5,6,7,8,9]"
   ]
  },
  {
   "cell_type": "code",
   "execution_count": 6,
   "id": "0cfd75cc-b88f-4ae9-87ed-f168036a4c80",
   "metadata": {},
   "outputs": [],
   "source": [
    "def square(n):\n",
    "    return n**2\n",
    "\n",
    "square_thread = [threading.Thread(target=square , args=(i,)) for i in li]"
   ]
  },
  {
   "cell_type": "code",
   "execution_count": 7,
   "id": "23c7a446-6859-43b1-82aa-cfdd7bc1e007",
   "metadata": {},
   "outputs": [
    {
     "data": {
      "text/plain": [
       "[<Thread(Thread-23 (square), initial)>,\n",
       " <Thread(Thread-24 (square), initial)>,\n",
       " <Thread(Thread-25 (square), initial)>,\n",
       " <Thread(Thread-26 (square), initial)>,\n",
       " <Thread(Thread-27 (square), initial)>,\n",
       " <Thread(Thread-28 (square), initial)>,\n",
       " <Thread(Thread-29 (square), initial)>,\n",
       " <Thread(Thread-30 (square), initial)>,\n",
       " <Thread(Thread-31 (square), initial)>]"
      ]
     },
     "execution_count": 7,
     "metadata": {},
     "output_type": "execute_result"
    }
   ],
   "source": [
    "square_thread"
   ]
  },
  {
   "cell_type": "code",
   "execution_count": 8,
   "id": "32b0e935-51ac-4b92-9d6e-a3dbcc58c22c",
   "metadata": {},
   "outputs": [
    {
     "data": {
      "text/plain": [
       "[<Thread(Thread-23 (square), stopped 139646558266944)>,\n",
       " <Thread(Thread-24 (square), stopped 139646558266944)>,\n",
       " <Thread(Thread-25 (square), stopped 139646558266944)>,\n",
       " <Thread(Thread-26 (square), stopped 139646558266944)>,\n",
       " <Thread(Thread-27 (square), stopped 139646566659648)>,\n",
       " <Thread(Thread-28 (square), stopped 139646566659648)>,\n",
       " <Thread(Thread-29 (square), stopped 139646566659648)>,\n",
       " <Thread(Thread-30 (square), stopped 139646566659648)>,\n",
       " <Thread(Thread-31 (square), stopped 139646566659648)>]"
      ]
     },
     "execution_count": 8,
     "metadata": {},
     "output_type": "execute_result"
    }
   ],
   "source": [
    "for t in square_thread:\n",
    "    t.start()\n",
    "\n",
    "square_thread"
   ]
  },
  {
   "cell_type": "code",
   "execution_count": 16,
   "id": "4354b8d6-6b94-4083-8e47-b6162fc19551",
   "metadata": {},
   "outputs": [],
   "source": [
    "def cube(n):\n",
    "    return n**3\n",
    "\n",
    "cube_thread = [threading.Thread(target=cube , args=(i,)) for i in li]"
   ]
  },
  {
   "cell_type": "code",
   "execution_count": 17,
   "id": "54192fed-df84-45dd-afc7-a64480401c60",
   "metadata": {},
   "outputs": [
    {
     "data": {
      "text/plain": [
       "[<Thread(Thread-50 (cube), initial)>,\n",
       " <Thread(Thread-51 (cube), initial)>,\n",
       " <Thread(Thread-52 (cube), initial)>,\n",
       " <Thread(Thread-53 (cube), initial)>,\n",
       " <Thread(Thread-54 (cube), initial)>,\n",
       " <Thread(Thread-55 (cube), initial)>,\n",
       " <Thread(Thread-56 (cube), initial)>,\n",
       " <Thread(Thread-57 (cube), initial)>,\n",
       " <Thread(Thread-58 (cube), initial)>]"
      ]
     },
     "execution_count": 17,
     "metadata": {},
     "output_type": "execute_result"
    }
   ],
   "source": [
    "cube_thread"
   ]
  },
  {
   "cell_type": "code",
   "execution_count": 18,
   "id": "129a73c1-5d6a-4fcb-a586-cae2095b5dbe",
   "metadata": {},
   "outputs": [
    {
     "data": {
      "text/plain": [
       "[<Thread(Thread-50 (cube), stopped 139646558266944)>,\n",
       " <Thread(Thread-51 (cube), stopped 139646558266944)>,\n",
       " <Thread(Thread-52 (cube), stopped 139646566659648)>,\n",
       " <Thread(Thread-53 (cube), stopped 139646566659648)>,\n",
       " <Thread(Thread-54 (cube), stopped 139646566659648)>,\n",
       " <Thread(Thread-55 (cube), stopped 139646566659648)>,\n",
       " <Thread(Thread-56 (cube), stopped 139646566659648)>,\n",
       " <Thread(Thread-57 (cube), stopped 139646566659648)>,\n",
       " <Thread(Thread-58 (cube), stopped 139646566659648)>]"
      ]
     },
     "execution_count": 18,
     "metadata": {},
     "output_type": "execute_result"
    }
   ],
   "source": [
    "for t in cube_thread:\n",
    "    t.start() \n",
    "cube_thread"
   ]
  },
  {
   "cell_type": "markdown",
   "id": "aebe5d93-3c71-48e8-a6cd-537aa621543e",
   "metadata": {},
   "source": [
    "# __Ques 5__\n",
    "__Advantages of Multithreading:__\n",
    "1. __Improved performance:__ Multithreading can improve the performance of a program by allowing multiple threads to run in parallel. This can lead to faster execution and improved responsiveness.\n",
    "2. __Better resource utilization: By running multiple threads, a program can make better use of available resources, such as CPU cycles and memory.\n",
    "3. __Simplified programming:__ Multithreading can make programming easier by allowing complex tasks to be broken down into smaller, more manageable pieces that can be executed concurrently.\n",
    "4. __Enhanced interactivity:__ Multithreading can improve the interactivity of a program by allowing it to respond to user input while still performing other tasks in the background."
   ]
  },
  {
   "cell_type": "markdown",
   "id": "232255bc-670d-41b6-b9ff-2fe2980ff659",
   "metadata": {},
   "source": [
    "__Disadvantages of Multithreading:__\n",
    "1. __Increased complexity:__ Multithreading can make programming more complex, as it requires careful management of shared resources, such as memory and data structures, to avoid race conditions and other issues.\n",
    "2. __Synchronization overhead:__ To ensure the correctness of multithreaded programs, synchronization mechanisms, such as locks and semaphores, must be used, which can add overhead and reduce performance.\n",
    "3. __Difficult to debug:__ Multithreaded programs can be difficult to debug, as thread interactions can be hard to predict and reproduce.\n",
    "4. __Limited scalability:__ The Global Interpreter Lock (GIL) in Python limits the scalability of multithreaded programs, as only one thread can execute Python bytecode at a time."
   ]
  },
  {
   "cell_type": "markdown",
   "id": "88dd71e7-9897-47c9-a1d5-f764b3386f14",
   "metadata": {},
   "source": [
    "# __Ques 6__\n",
    "1. __Race Condition :__ A race condition occurs when two or more threads access a shared resource at the same time, and the order of access or execution is not predetermined. This can lead to unpredictable and potentially incorrect behavior, as the outcome of the program depends on the order in which the threads access the resource. Race conditions can occur when threads access shared variables or data structures without proper synchronization, such as using locks or semaphores to control access.\n",
    "2. __Dead lock :__ A deadlock occurs when two or more threads are blocked, waiting for each other to release a resource that they need to continue running. This results in a situation where none of the threads can proceed, and the program becomes stuck. Deadlocks can occur when threads hold locks on resources while waiting for other resources, creating a \"circular wait\" situation. Deadlocks can be difficult to detect and resolve, and can cause programs to become unresponsive or crash."
   ]
  }
 ],
 "metadata": {
  "kernelspec": {
   "display_name": "Python 3 (ipykernel)",
   "language": "python",
   "name": "python3"
  },
  "language_info": {
   "codemirror_mode": {
    "name": "ipython",
    "version": 3
   },
   "file_extension": ".py",
   "mimetype": "text/x-python",
   "name": "python",
   "nbconvert_exporter": "python",
   "pygments_lexer": "ipython3",
   "version": "3.10.8"
  }
 },
 "nbformat": 4,
 "nbformat_minor": 5
}
